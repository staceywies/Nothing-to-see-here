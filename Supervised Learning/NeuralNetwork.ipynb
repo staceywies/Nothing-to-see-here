{
 "cells": [
  {
   "cell_type": "code",
   "execution_count": 2,
   "metadata": {},
   "outputs": [],
   "source": [
    "import numpy as np\n",
    "from sklearn.model_selection import train_test_split\n",
    "\n",
    "#Data\n",
    "strdata=np.loadtxt('fertility.csv', delimiter=',', dtype=str)\n",
    "input=strdata[:,0:-1]\n",
    "input=input.astype('float')\n",
    "output=strdata[:,-1:]\n",
    "output[output== 'N'] = 0 #normal fertility is a 0\n",
    "output[output== 'O'] = 1 #abnormal fertility is 1\n",
    "output=output.astype('float')\n",
    "\n",
    "input.shape\n",
    "ones=np.ones((100,1))\n",
    "ones.astype(float)\n",
    "input=np.append(ones, input, axis=1)\n",
    "#splitting test and train\n",
    "X_train, X_test, y_train, y_test = train_test_split (input, output)\n"
   ]
  },
  {
   "cell_type": "code",
   "execution_count": 7,
   "metadata": {},
   "outputs": [
    {
     "name": "stdout",
     "output_type": "stream",
     "text": [
      "8.868915000000001\n",
      "5.774451964630782\n",
      "5.0996272570627825\n",
      "4.916034204380915\n",
      "4.837475383831875\n",
      "4.785704720169772\n",
      "4.744132539766786\n",
      "4.708647035219277\n",
      "4.677769786344292\n",
      "4.6506649713923185\n"
     ]
    }
   ],
   "source": [
    "#initialize weights and learning\n",
    "weights=np.ones((input.shape[1]))/ input.shape[1] \n",
    "learningr=0.002\n",
    "i=0\n",
    "while i < 10:\n",
    "    i+=1\n",
    "\n",
    "    #calculate a\n",
    "    acalc=np.sum(X_train*weights, axis=1)    \n",
    "    #print(acalc)\n",
    "\n",
    "    #calculate y minus a\n",
    "    y_train=y_train.ravel()\n",
    "    ydiff=y_train-acalc\n",
    "    #print(y_train)\n",
    "    #print(ydiff)\n",
    "\n",
    "    #Calculate error\n",
    "    error=np.sum(np.square(ydiff))*0.5\n",
    "    print(error)\n",
    "\n",
    "\n",
    "    #one iteration of gradient\n",
    "    gradient=[]\n",
    "    for j in range(X_train.shape[1]):\n",
    "        val=sum(X_train[:,j]*ydiff)*learningr\n",
    "        gradient.append(val)\n",
    "    #print(gradient)\n",
    "\n",
    "    #update weights\n",
    "    weights+=gradient\n"
   ]
  },
  {
   "cell_type": "code",
   "execution_count": null,
   "metadata": {},
   "outputs": [],
   "source": []
  }
 ],
 "metadata": {
  "kernelspec": {
   "display_name": "Python 3.9.5 64-bit",
   "language": "python",
   "name": "python3"
  },
  "language_info": {
   "codemirror_mode": {
    "name": "ipython",
    "version": 3
   },
   "file_extension": ".py",
   "mimetype": "text/x-python",
   "name": "python",
   "nbconvert_exporter": "python",
   "pygments_lexer": "ipython3",
   "version": "3.9.5"
  },
  "orig_nbformat": 4,
  "vscode": {
   "interpreter": {
    "hash": "aee8b7b246df8f9039afb4144a1f6fd8d2ca17a180786b69acc140d282b71a49"
   }
  }
 },
 "nbformat": 4,
 "nbformat_minor": 2
}
