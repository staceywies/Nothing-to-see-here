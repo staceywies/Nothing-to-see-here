{
 "cells": [
  {
   "cell_type": "code",
   "execution_count": 113,
   "metadata": {},
   "outputs": [],
   "source": [
    "import numpy as np\n",
    "from sklearn.preprocessing import MinMaxScaler\n",
    "from sklearn.cluster import KMeans\n",
    "from sklearn.mixture import GaussianMixture\n",
    "from sklearn.decomposition import PCA\n",
    "from sklearn.decomposition import FastICA\n",
    "from sklearn.random_projection import GaussianRandomProjection\n",
    "from sklearn.discriminant_analysis import LinearDiscriminantAnalysis"
   ]
  },
  {
   "cell_type": "code",
   "execution_count": 270,
   "metadata": {},
   "outputs": [],
   "source": [
    "#Data loading\n",
    "strdata=np.loadtxt('energy.csv', delimiter=',', dtype=str)\n",
    "strdata=strdata[1:,:]\n",
    "data=strdata.astype('double')\n",
    "\n",
    "#Dataset 1\n",
    "data1=data[:,0:-1]\n",
    "input1=data1[:,0:-1]\n",
    "input1= MinMaxScaler().fit_transform(input1)\n",
    "output1=data1[:,-1]\n",
    "output1[output1>29] = 2\n",
    "output1[output1>17] = 1\n",
    "output1[output1>4] = 0 \n",
    "\n",
    "#Dataset 2\n",
    "data2=np.delete(data, [2,3,7,8], axis=1)\n",
    "input2=data2[:,0:-1]\n",
    "input2= MinMaxScaler().fit_transform(input2)\n",
    "output2=data2[:,-1]\n",
    "output2[output2>29] = 2\n",
    "output2[output2>17] = 1\n",
    "output2[output2>4] = 0 \n"
   ]
  },
  {
   "cell_type": "code",
   "execution_count": 272,
   "metadata": {},
   "outputs": [
    {
     "name": "stdout",
     "output_type": "stream",
     "text": [
      "[[351.  33.   0.]\n",
      " [  4.  70. 118.]\n",
      " [  2.  68. 122.]]\n",
      "[0.70703125]\n",
      "[[274. 110.   0.]\n",
      " [  0.  46. 146.]\n",
      " [  0.  44. 148.]]\n",
      "[0.609375]\n"
     ]
    }
   ],
   "source": [
    "####K-Means Clustering\n",
    "kclusters1= KMeans(random_state=212, n_clusters=3, algorithm=\"lloyd\")\n",
    "kclus1vals=kclusters1.fit_predict(input1)\n",
    "kclusperformance1=np.zeros((3,3))\n",
    "#kclusperformance1[0,1]=2\n",
    "#print(kclusperformance1)\n",
    "for i in range(len(kclus1vals)):\n",
    "    kclusperformance1[kclus1vals[i], int(output1[i])]+=1\n",
    "    ##X axis is the actual val, y axis is the calculated\n",
    "\n",
    "print(kclusperformance1)\n",
    "N=kclus1vals.shape\n",
    "accuracy= (kclus1vals==output1).sum()/N\n",
    "print(accuracy)\n",
    "\n",
    "\n",
    "kclusters2= KMeans(random_state=212, n_clusters=3, algorithm=\"lloyd\")\n",
    "kclus2vals=kclusters2.fit_predict(input2)\n",
    "kclusperformance2=np.zeros((3,3))\n",
    "#kclusperformance1[0,1]=2\n",
    "#print(kclusperformance1)\n",
    "for i in range(len(kclus2vals)):\n",
    "    kclusperformance2[kclus2vals[i], int(output2[i])]+=1\n",
    "    ##X axis is the actual val, y axis is the calculated\n",
    "\n",
    "print(kclusperformance2)\n",
    "N=kclus2vals.shape\n",
    "accuracy= (kclus2vals==output2).sum()/N\n",
    "print(accuracy)"
   ]
  },
  {
   "cell_type": "code",
   "execution_count": 274,
   "metadata": {},
   "outputs": [
    {
     "name": "stdout",
     "output_type": "stream",
     "text": [
      "[[351.  33.   0.]\n",
      " [  6.  66.  96.]\n",
      " [  0.  72. 144.]]\n",
      "[0.73046875]\n",
      "[[274. 110.   0.]\n",
      " [  0.  46. 146.]\n",
      " [  0.  44. 148.]]\n",
      "[0.609375]\n"
     ]
    }
   ],
   "source": [
    "\n",
    "#####EM Clustering\n",
    "emclusters1= GaussianMixture(random_state=212, n_components=3)\n",
    "emclusters1.fit(input1)\n",
    "emvals1=emclusters1.predict(input1)\n",
    "\n",
    "emperform1=np.zeros((3,3))\n",
    "for i in range(len(emvals1)):\n",
    "    emperform1[emvals1[i], int(output1[i])]+=1\n",
    "    ##X axis is the actual val, y axis is the calculated\n",
    "\n",
    "print(emperform1)\n",
    "N=emvals1.shape\n",
    "accuracy= (emvals1==output1).sum()/N\n",
    "print(accuracy)\n",
    "\n",
    "##########################################\n",
    "emclusters2= GaussianMixture(random_state=212, n_components=3)\n",
    "emclusters2.fit(input2)\n",
    "emvals2=emclusters2.predict(input2)\n",
    "\n",
    "emperform2=np.zeros((3,3))\n",
    "for i in range(len(emvals2)):\n",
    "    emperform2[emvals2[i], int(output2[i])]+=1\n",
    "    ##X axis is the actual val, y axis is the calculated\n",
    "\n",
    "print(emperform2)\n",
    "N=emvals2.shape\n",
    "accuracy= (emvals2==output2).sum()/N\n",
    "print(accuracy)\n",
    "\n",
    "###Values\n",
    "#kclusters1.labels_\n",
    "#kclusters1.cluster_centers_"
   ]
  },
  {
   "cell_type": "code",
   "execution_count": 275,
   "metadata": {},
   "outputs": [
    {
     "name": "stdout",
     "output_type": "stream",
     "text": [
      "[[ 3.58577524e-01 -3.72555005e-01  5.91546821e-02 -5.42749204e-01\n",
      "   6.59203271e-01 -3.37632430e-18 -6.52264480e-17 -5.69961281e-17]\n",
      " [ 9.10729825e-17  2.64188034e-16 -3.73529453e-16 -1.64114296e-16\n",
      "  -7.01341566e-18 -1.00000000e+00 -1.55431223e-15 -4.02455846e-16]\n",
      " [ 1.21004125e-16  2.53670687e-16 -4.15375570e-16 -8.50528040e-17\n",
      "  -8.60305702e-17  1.05471187e-15 -8.11461340e-01 -5.84406104e-01]\n",
      " [-3.73750511e-01  3.62850393e-01  8.13127868e-01 -1.48632263e-01\n",
      "   2.13029738e-01 -2.19039399e-16  4.57383048e-16 -1.14319683e-15]\n",
      " [-4.02221481e-16  3.94782009e-16  1.02132336e-15 -2.18559887e-16\n",
      "   1.82641316e-16  3.33066907e-16 -5.84406104e-01  8.11461340e-01]\n",
      " [ 4.13509509e-01 -1.31468465e-01  3.50092156e-01 -4.47585185e-01\n",
      "  -6.99163010e-01 -4.94599707e-17  3.92077819e-17 -1.06657116e-16]\n",
      " [-7.48827484e-01 -4.32100635e-01 -1.84193268e-01 -4.32872749e-01\n",
      "  -1.76749721e-01 -4.13417110e-17 -5.53600654e-17 -4.58033541e-17]]\n",
      "[5.56548491e-01 1.39069970e-01 1.26768352e-01 9.32975812e-02\n",
      " 8.03739227e-02 8.65291015e-03 4.66978484e-04]\n",
      "[[ 4.36332170e-01 -4.53962151e-01  7.76873608e-01 -3.33813096e-16\n",
      "  -1.34183541e-16]\n",
      " [-0.00000000e+00  6.09531352e-16  7.85864332e-16  1.00000000e+00\n",
      "   6.38378239e-16]\n",
      " [-0.00000000e+00  1.56636776e-16 -8.11925815e-17  6.10622664e-16\n",
      "  -1.00000000e+00]\n",
      " [ 5.88495006e-01 -5.09147299e-01 -6.28046699e-01  8.03900741e-16\n",
      "  -2.87584584e-17]]\n",
      "[0.39384115 0.13906997 0.11092324 0.03201686]\n"
     ]
    }
   ],
   "source": [
    "###PCA\n",
    "pca1=PCA(n_components=7, random_state=212)\n",
    "pcadata1=pca1.fit(input1)\n",
    "pcadata1= pca1.transform(input1)\n",
    "print(pca1.components_)\n",
    "print(pca1.explained_variance_)\n",
    "\n",
    "\n",
    "pca2=PCA(n_components=4, random_state=212)\n",
    "pca2.fit(input2)\n",
    "pcadata2= pca2.transform(input2)\n",
    "print(pca2.components_)\n",
    "print(pca2.explained_variance_)\n",
    "\n"
   ]
  },
  {
   "cell_type": "code",
   "execution_count": 276,
   "metadata": {},
   "outputs": [
    {
     "name": "stderr",
     "output_type": "stream",
     "text": [
      "/Users/staceywies/opt/miniconda3/lib/python3.9/site-packages/sklearn/decomposition/_fastica.py:494: FutureWarning: Starting in v1.3, whiten='unit-variance' will be used by default.\n",
      "  warnings.warn(\n"
     ]
    },
    {
     "name": "stdout",
     "output_type": "stream",
     "text": [
      "[[ 8.88418535e-01  4.97126656e-01  1.29007110e-01  5.62496677e-01\n",
      "   2.41472715e-01 -1.54816404e-16 -1.02108924e-16 -9.85205404e-17]\n",
      " [ 2.63625752e-15  1.41380357e-15  5.52267525e-16  1.44108523e-15\n",
      "   5.31868619e-16  9.68245837e-02 -8.67043397e-18  1.68653120e-17]\n",
      " [-1.60876136e-15 -8.41310500e-16 -3.19607321e-16 -9.22568696e-16\n",
      "  -3.37611666e-16 -9.83185422e-18  1.25989840e-02 -1.18533114e-01]\n",
      " [-1.43896252e-01 -6.39054144e-02 -2.50491662e-02 -6.57245343e-02\n",
      "  -8.24931696e-02 -3.86807700e-18  1.85048780e-17 -3.10415508e-17]\n",
      " [-4.26706662e-01 -3.80305395e-01 -1.16918882e-01 -4.16136952e-01\n",
      "  -3.09210556e-01 -3.60788159e-17 -5.37080908e-17 -1.41414862e-17]\n",
      " [-1.58722018e-15 -7.71797505e-16 -2.63745096e-16 -8.45902246e-16\n",
      "  -2.78528739e-16  1.21439183e-17 -1.10243267e-01  1.19909228e-02]\n",
      " [ 7.75571318e-01  3.60840831e-01  3.02486158e-01  2.45854096e-01\n",
      "  -4.24635002e-02  1.28932357e-17  5.08911700e-17 -1.99875605e-17]]\n",
      "(768, 7)\n",
      "[[-4.40465827e-09  2.64032005e-09  2.37210435e-08 -1.56686620e-13\n",
      "  -1.08415417e-01]\n",
      " [-2.32418733e-13  2.01160283e-13  2.23154132e-13  9.68245837e-02\n",
      "  -1.75554859e-13]\n",
      " [-4.68962710e-03  8.39343403e-03 -6.54590286e-02 -1.41929131e-15\n",
      "  -3.01388737e-08]\n",
      " [-1.21290001e-01  1.05679204e-01  1.17368822e-01 -1.84851766e-13\n",
      "   5.10242342e-09]]\n",
      "(768, 4)\n"
     ]
    },
    {
     "name": "stderr",
     "output_type": "stream",
     "text": [
      "/Users/staceywies/opt/miniconda3/lib/python3.9/site-packages/sklearn/decomposition/_fastica.py:120: ConvergenceWarning: FastICA did not converge. Consider increasing tolerance or the maximum number of iterations.\n",
      "  warnings.warn(\n",
      "/Users/staceywies/opt/miniconda3/lib/python3.9/site-packages/sklearn/decomposition/_fastica.py:494: FutureWarning: Starting in v1.3, whiten='unit-variance' will be used by default.\n",
      "  warnings.warn(\n"
     ]
    }
   ],
   "source": [
    "\n",
    "###ICA\n",
    "ica1=FastICA(n_components=7,random_state=212, max_iter=500)\n",
    "icadata1=ica1.fit_transform(input1)\n",
    "print(ica1.components_)\n",
    "print(icadata1.shape)\n",
    "\n",
    "ica2=FastICA(n_components=4,random_state=212, max_iter=500)\n",
    "icadata2=ica2.fit_transform(input2)\n",
    "print(ica2.components_)\n",
    "print(icadata2.shape)"
   ]
  },
  {
   "cell_type": "code",
   "execution_count": 277,
   "metadata": {},
   "outputs": [
    {
     "name": "stdout",
     "output_type": "stream",
     "text": [
      "[[ 0.08668499 -0.05623999 -0.42877997 -0.4063447  -0.13840766 -0.35979091\n",
      "  -0.32452587 -0.25692058]\n",
      " [ 0.26020986  0.07363194 -0.1695665   0.19059433 -0.22137466  0.15719092\n",
      "   0.07196112  0.25423218]\n",
      " [ 0.30629064  0.60932408 -0.9294307   0.1009481   0.11142524  0.40522306\n",
      "   0.32411221  0.42159442]\n",
      " [ 0.25851339  0.25947226 -0.02176783  0.07904684  0.15143091 -0.46607153\n",
      "   0.30158847 -0.04135447]\n",
      " [-0.1380749  -0.24532662 -0.41619178  0.05160203 -0.2095689   0.64235955\n",
      "   0.01388682  0.14237921]\n",
      " [ 0.3644904   0.08185437  0.08936556 -0.26388072 -0.07558831 -0.35315038\n",
      "   0.42111698  0.68102659]\n",
      " [-0.05710643  0.19678354 -0.30275292  0.2957501   0.52430327 -0.29366153\n",
      "   0.36274447  0.26384844]]\n",
      "(768, 7)\n",
      "[[ 0.11467346 -0.07439851 -0.56722259 -0.53754351 -0.18309612]\n",
      " [-0.47595864 -0.42930737 -0.33987398  0.34422529  0.0974059 ]\n",
      " [-0.2243154   0.2521326  -0.29285115  0.20794404  0.09519561]\n",
      " [ 0.33631756  0.40518444  0.80606    -1.22952125  0.13354179]]\n",
      "(768, 4)\n"
     ]
    }
   ],
   "source": [
    "\n",
    "###Randomized Projections\n",
    "randproj1=GaussianRandomProjection(n_components=7,random_state=212)\n",
    "randproj1.fit(input1)\n",
    "randprojdata1=randproj1.transform(input1)\n",
    "print(randproj1.components_)\n",
    "print(randprojdata1.shape)\n",
    "\n",
    "\n",
    "randproj2=GaussianRandomProjection(n_components=4,random_state=212)\n",
    "randproj2.fit(input2)\n",
    "randprojdata2=randproj2.transform(input2)\n",
    "print(randproj2.components_)\n",
    "print(randprojdata2.shape)\n",
    "\n"
   ]
  },
  {
   "cell_type": "code",
   "execution_count": 280,
   "metadata": {},
   "outputs": [
    {
     "name": "stdout",
     "output_type": "stream",
     "text": [
      "[[-4.51427048e+00 -4.77025097e+00 -4.20843825e+00 -2.58590792e+00\n",
      "  -1.65959706e+01 -2.53404701e-02 -3.87228033e+00  3.00753611e-01]\n",
      " [ 2.32196789e+01  1.36181897e+01  6.51582232e+00  1.36495905e+01\n",
      "   1.38402741e+01  8.25635750e-02  9.07825291e-01 -4.72474382e-01]\n",
      " [-9.82904390e+00 -2.60721187e+00  1.61752849e+00 -5.87879519e+00\n",
      "   1.48253110e+01 -2.11325979e-02  5.11319147e+00 -1.10733000e-01]]\n",
      "(768, 2)\n",
      "[[-12.79000465 -18.47271385 -13.55147751  -0.28369596  -3.7644174 ]\n",
      " [  7.16336968   7.82249436  -0.18409184   0.06108162  -0.17311489]\n",
      " [  7.0468957   11.89464191  12.75484083   0.22284479   3.62609982]]\n",
      "(768, 2)\n"
     ]
    }
   ],
   "source": [
    "##Linear Discriminant Analysis\n",
    "lda1=LinearDiscriminantAnalysis(n_components=2)\n",
    "ldadata1=lda1.fit_transform(input1, output1)\n",
    "print(lda1.coef_)\n",
    "print(ldadata1.shape)\n",
    "\n",
    "lda2=LinearDiscriminantAnalysis(n_components=2)\n",
    "ldadata2=lda2.fit_transform(input2, output2)\n",
    "print(lda2.coef_)\n",
    "print(ldadata2.shape)"
   ]
  },
  {
   "cell_type": "code",
   "execution_count": 286,
   "metadata": {},
   "outputs": [
    {
     "name": "stdout",
     "output_type": "stream",
     "text": [
      "[0.70703125]\n",
      "[0.73046875]\n",
      "[0.0859375]\n",
      "[0.41015625]\n",
      "[0.35546875]\n",
      "[0.05989583]\n",
      "[0.77213542]\n",
      "[0.70963542]\n",
      "[0.03125]\n",
      "[0.609375]\n",
      "[0.0859375]\n",
      "[0.29817708]\n",
      "[0.59244792]\n",
      "[0.29817708]\n",
      "[0.0078125]\n",
      "[0.19401042]\n"
     ]
    }
   ],
   "source": [
    "data1=[pcadata1, icadata2,randprojdata1, ldadata1]\n",
    "data2=[pcadata2, icadata2, randprojdata2, ldadata2]\n",
    "\n",
    "for dat in data1:\n",
    "    cluster=KMeans(random_state=212, n_clusters=3)\n",
    "    clustervals=cluster.fit_predict(dat)\n",
    "    clusterperformance=np.zeros((3,3))\n",
    "    for i in range(len(clustervals)):\n",
    "        clusterperformance[clustervals[i], int(output1[i])]+=1\n",
    "        ##X axis is the actual val, y axis is the calculated\n",
    "    #print(clusterperformance)\n",
    "    N=clustervals.shape\n",
    "    accuracy= (clustervals==output1).sum()/N\n",
    "    print(accuracy)\n",
    "\n",
    "    emclusters= GaussianMixture(random_state=212, n_components=3)\n",
    "    emclusters.fit(dat)\n",
    "    emvals=emclusters.predict(dat)\n",
    "\n",
    "    emperform=np.zeros((3,3))\n",
    "    for i in range(len(emvals)):\n",
    "        emperform[emvals[i], int(output1[i])]+=1\n",
    "        ##X axis is the actual val, y axis is the calculated\n",
    "\n",
    "    #print(emperform)\n",
    "    N=emvals.shape\n",
    "    accuracy= (emvals==output1).sum()/N\n",
    "    print(accuracy)\n",
    "\n",
    "for dat in data2:\n",
    "    cluster=KMeans(random_state=212, n_clusters=3)\n",
    "    clustervals=cluster.fit_predict(dat)\n",
    "    clusterperformance=np.zeros((3,3))\n",
    "    for i in range(len(clustervals)):\n",
    "        clusterperformance[clustervals[i], int(output2[i])]+=1\n",
    "        ##X axis is the actual val, y axis is the calculated\n",
    "    #print(clusterperformance)\n",
    "    N=clustervals.shape\n",
    "    accuracy= (clustervals==output1).sum()/N\n",
    "    print(accuracy)\n",
    "    emclusters= GaussianMixture(random_state=212, n_components=3)\n",
    "    emclusters.fit(dat)\n",
    "    emvals=emclusters.predict(dat)\n",
    "\n",
    "    emperform=np.zeros((3,3))\n",
    "    for i in range(len(emvals)):\n",
    "        emperform[emvals[i], int(output2[i])]+=1\n",
    "        ##X axis is the actual val, y axis is the calculated\n",
    "\n",
    "    #print(emperform)\n",
    "    N=emvals.shape\n",
    "    accuracy= (emvals==output2).sum()/N\n",
    "    print(accuracy)\n",
    "    "
   ]
  },
  {
   "cell_type": "code",
   "execution_count": null,
   "metadata": {},
   "outputs": [],
   "source": []
  }
 ],
 "metadata": {
  "kernelspec": {
   "display_name": "Python 3.9.13 ('base')",
   "language": "python",
   "name": "python3"
  },
  "language_info": {
   "codemirror_mode": {
    "name": "ipython",
    "version": 3
   },
   "file_extension": ".py",
   "mimetype": "text/x-python",
   "name": "python",
   "nbconvert_exporter": "python",
   "pygments_lexer": "ipython3",
   "version": "3.9.13"
  },
  "orig_nbformat": 4,
  "vscode": {
   "interpreter": {
    "hash": "862f0c301361fa216e65337648d543e9d8ffcab5d13c10cfb69f21da2230b16c"
   }
  }
 },
 "nbformat": 4,
 "nbformat_minor": 2
}
