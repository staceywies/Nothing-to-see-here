{
 "cells": [
  {
   "cell_type": "code",
   "execution_count": 54,
   "metadata": {},
   "outputs": [],
   "source": [
    "import mdptoolbox\n",
    "import numpy as np\n",
    "import time"
   ]
  },
  {
   "cell_type": "code",
   "execution_count": 50,
   "metadata": {},
   "outputs": [],
   "source": [
    "#Build transition matrix\n",
    "transition2=np.zeros((2,3000,3000))\n",
    "#actions\n",
    "#action0=go to gym\n",
    "#action1=don't go to gym\n",
    "#states\n",
    "#first digit= sore (0=not sore, 1=sore, 2= injured)\n",
    "#second digit= distance from gym (0-9)\n",
    "#third digit= hrs of free time (0-9)\n",
    "#fourth digit= hrs of sleep night before (0-9)\n",
    "\n",
    "s=range(0,3000,1)\n",
    "for i in [3000]:\n",
    "    sore=i//1000\n",
    "    dist=i//100 -sore*10\n",
    "    time=i//10-dist*10 -sore*100\n",
    "    sleep=i-time*10- dist*100 - sore*1000\n",
    "    transition2\n",
    "\n",
    "    \n"
   ]
  },
  {
   "cell_type": "code",
   "execution_count": 51,
   "metadata": {},
   "outputs": [],
   "source": [
    "#Build transition matrix\n",
    "transition2=np.zeros((2,3000,3000))\n",
    "#actions\n",
    "#action0=plant more seeds\n",
    "#action1=don't plant more seeds\n",
    "#states\n",
    "#first digit= suggested season to plant seeds? (0= yes, 1=soon or recently, 2= bad time)\n",
    "#second digit= free space on land (0-9)\n",
    "#third digit= demand for crop (0-9)\n",
    "#fourth digit= soil quality (0-9)\n",
    "\n",
    "s=range(0,3000,1)\n",
    "for i in s:\n",
    "    season=i//1000\n",
    "    space=i//100 -season*10\n",
    "    demand=i//10-space*10 -season*100\n",
    "    soil=i-demand*10- space*100 - season*1000\n",
    "    #soil quality goes up if you don't plant, down if you do plant\n",
    "    #space either goes up or stays the same if you don't plant, goes down if you do plant\n",
    "    #season changes randomly, Pr=20% that it changes, 10% for either value\n",
    "    transition2[:,i,i]=0.00000001\n",
    "    if (soil not in [0]) & (space not in [0]):\n",
    "        transition2[0,i,i-101]+=0.7\n",
    "        transition2[0,i,i-101-season*1000]+=0.1\n",
    "        transition2[0,i,i-101-season*1000+1000]+=0.1\n",
    "        transition2[0,i,i-101-season*1000+2000]+=0.1\n",
    "    elif (soil not in [9]) & (space not in [9]):\n",
    "        transition2[1,i,i+1]+=0.35\n",
    "        transition2[1,i,i+101]+=0.35\n",
    "        transition2[1,i,i+1-season*1000]+=0.05\n",
    "        transition2[1,i,i+101-season*1000]+=0.05\n",
    "        transition2[1,i,i+1-season*1000+1000]+=0.05\n",
    "        transition2[1,i,i+101-season*1000+1000]+=0.05\n",
    "        transition2[1,i,i+1-season*1000+2000]+=0.05\n",
    "        transition2[1,i,i+101-season*1000+2000]+=0.05\n",
    "    #normalize\n",
    "    sum1=np.sum(transition2[0,i,:])\n",
    "    transition2[0,i,:]=transition2[0,i,:]/sum1\n",
    "    sum2=np.sum(transition2[1,i,:])\n",
    "    transition2[1,i,:]=transition2[1,i,:]/sum2\n",
    "\n",
    "\n",
    "reward=np.ones((2,3000,3000))\n",
    "reward=reward*0.1\n",
    "for i in s:\n",
    "    season=i//1000\n",
    "    space=i//100 -season*10\n",
    "    demand=i//10-space*10 -season*100\n",
    "    soil=i-demand*10- space*100 - season*1000 \n",
    "    if soil<5:\n",
    "        reward[0,i,:]=-10*(5-soil) #penalty for planting on bad soil\n",
    "    else:\n",
    "        reward[1,i,:]=-10 #pentalty for not planting on good soil\n",
    "    if season==0:\n",
    "        reward[0,i,:]+=50 #reward for planting in good season\n",
    "        reward[1,i,:]-=50\n",
    "    elif season==2:\n",
    "        reward[0,i,:]-=50\n",
    "        reward[1,i,:]-=50\n",
    "    if space==0:\n",
    "        reward[0,i,:]-=1000\n",
    "    reward[0,i,:]+=(demand-5)*10\n",
    "    reward[1,i,:]-=(demand-5)*10\n",
    "\n"
   ]
  },
  {
   "cell_type": "code",
   "execution_count": 52,
   "metadata": {},
   "outputs": [
    {
     "name": "stdout",
     "output_type": "stream",
     "text": [
      "3\n",
      "0.601384162902832\n"
     ]
    }
   ],
   "source": [
    "#Policy Iteration\n",
    "problem2=mdptoolbox.mdp.PolicyIteration(transition2, reward, 0.8, eval_type=1)\n",
    "#problem2.setVerbose()\n",
    "problem2.run()\n",
    "value2p=problem2.V\n",
    "policy2p=problem2.policy\n",
    "print(problem2.iter)\n",
    "print(problem2.time)\n"
   ]
  },
  {
   "cell_type": "code",
   "execution_count": 53,
   "metadata": {},
   "outputs": [
    {
     "name": "stdout",
     "output_type": "stream",
     "text": [
      "51\n",
      "0.3440258502960205\n"
     ]
    }
   ],
   "source": [
    "\n",
    "#Value Iteration\n",
    "problem2=mdptoolbox.mdp.ValueIteration(transition2, reward, 0.8, max_iter=1000) #1, max_iter=100)\n",
    "#problem2.setVerbose()\n",
    "problem2.run()\n",
    "value2v=problem2.V\n",
    "policy2v=problem2.policy\n",
    "#print(value2)\n",
    "#print(policy2)\n",
    "print(problem2.iter)\n",
    "print(problem2.time)"
   ]
  },
  {
   "cell_type": "code",
   "execution_count": 55,
   "metadata": {},
   "outputs": [
    {
     "name": "stdout",
     "output_type": "stream",
     "text": [
      "8.274144887924194\n"
     ]
    }
   ],
   "source": [
    "#Q Learning\n",
    "problem2=mdptoolbox.mdp.QLearning(transition2, reward, 0.8, n_iter=10000)\n",
    "problem2.setVerbose()\n",
    "time1=time.time()\n",
    "problem2.run()\n",
    "time2=time.time()\n",
    "value2q=problem2.V\n",
    "policy2q=problem2.policy\n",
    "qtime=time2-time1\n",
    "#print(value2q)\n",
    "#print(policy2q)\n",
    "print(qtime)"
   ]
  },
  {
   "cell_type": "code",
   "execution_count": 56,
   "metadata": {},
   "outputs": [
    {
     "data": {
      "text/plain": [
       "0"
      ]
     },
     "execution_count": 56,
     "metadata": {},
     "output_type": "execute_result"
    }
   ],
   "source": [
    "value2v=np.asarray(value2v)\n",
    "value2p=np.asarray(value2p)\n",
    "value2q=np.asarray(value2q)\n",
    "policy2p=np.asarray(policy2p)\n",
    "policy2v=np.asarray(policy2v) #-policy2v\n",
    "policy2q=np.asarray(policy2q)\n",
    "\n",
    "diffpolicy=policy2p-policy2v\n",
    "policysum=np.sum(abs(diffpolicy))\n",
    "policysum\n",
    "\n"
   ]
  },
  {
   "cell_type": "code",
   "execution_count": 45,
   "metadata": {},
   "outputs": [
    {
     "data": {
      "text/plain": [
       "4.115300012318567"
      ]
     },
     "execution_count": 45,
     "metadata": {},
     "output_type": "execute_result"
    }
   ],
   "source": [
    "diffvalue=value2v-value2p\n",
    "valuesum=np.sum(abs(diffvalue))\n",
    "valuesum"
   ]
  },
  {
   "cell_type": "code",
   "execution_count": null,
   "metadata": {},
   "outputs": [],
   "source": []
  }
 ],
 "metadata": {
  "kernelspec": {
   "display_name": "Python 3.9.13 ('base')",
   "language": "python",
   "name": "python3"
  },
  "language_info": {
   "codemirror_mode": {
    "name": "ipython",
    "version": 3
   },
   "file_extension": ".py",
   "mimetype": "text/x-python",
   "name": "python",
   "nbconvert_exporter": "python",
   "pygments_lexer": "ipython3",
   "version": "3.9.13"
  },
  "orig_nbformat": 4,
  "vscode": {
   "interpreter": {
    "hash": "862f0c301361fa216e65337648d543e9d8ffcab5d13c10cfb69f21da2230b16c"
   }
  }
 },
 "nbformat": 4,
 "nbformat_minor": 2
}
