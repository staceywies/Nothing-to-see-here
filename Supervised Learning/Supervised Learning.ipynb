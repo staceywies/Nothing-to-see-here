{
 "cells": [
  {
   "cell_type": "code",
   "execution_count": 24,
   "metadata": {},
   "outputs": [],
   "source": [
    "from DecisionTree import DTLearner\n",
    "import numpy as np\n",
    "import timeit\n",
    "from sklearn.model_selection import train_test_split"
   ]
  },
  {
   "cell_type": "code",
   "execution_count": 25,
   "metadata": {},
   "outputs": [],
   "source": [
    "strdata=np.loadtxt('fertility.csv', delimiter=',', dtype=str)"
   ]
  },
  {
   "cell_type": "code",
   "execution_count": 26,
   "metadata": {},
   "outputs": [],
   "source": [
    "#Cleaning up the data\n",
    "input=strdata[:,0:-1]\n",
    "input=input.astype('float')\n",
    "output=strdata[:,-1:]\n",
    "output[output== 'N'] = 0 #normal fertility is a 0\n",
    "output[output== 'O'] = 1 #abnormal fertility is 1\n",
    "output=output.astype('float')"
   ]
  },
  {
   "cell_type": "code",
   "execution_count": 33,
   "metadata": {},
   "outputs": [
    {
     "name": "stderr",
     "output_type": "stream",
     "text": [
      "/Users/staceywies/opt/miniconda3/lib/python3.9/site-packages/numpy/lib/function_base.py:2853: RuntimeWarning: invalid value encountered in divide\n",
      "  c /= stddev[:, None]\n",
      "/Users/staceywies/opt/miniconda3/lib/python3.9/site-packages/numpy/lib/function_base.py:2854: RuntimeWarning: invalid value encountered in divide\n",
      "  c /= stddev[None, :]\n"
     ]
    },
    {
     "data": {
      "text/plain": [
       "0.2"
      ]
     },
     "execution_count": 33,
     "metadata": {},
     "output_type": "execute_result"
    }
   ],
   "source": [
    "#getting it ready\n",
    "X_train, X_test, y_train, y_test = train_test_split (input, output)\n",
    "learner=DTLearner(leaf_size=1)\n",
    "start=timeit.timeit()\n",
    "iter= learner.add_evidence(X_train, y_train)\n",
    "end=timeit.timeit()\n",
    "time=end-start\n",
    "yresult=learner.query(X_test)\n",
    "y_test=y_test.ravel()\n",
    "error=yresult-y_test\n",
    "percenerror=abs(sum(error))/(y_test.size)\n",
    "percenerror"
   ]
  },
  {
   "cell_type": "code",
   "execution_count": 45,
   "metadata": {},
   "outputs": [
    {
     "name": "stderr",
     "output_type": "stream",
     "text": [
      "/Users/staceywies/opt/miniconda3/lib/python3.9/site-packages/numpy/lib/function_base.py:2853: RuntimeWarning: invalid value encountered in divide\n",
      "  c /= stddev[:, None]\n",
      "/Users/staceywies/opt/miniconda3/lib/python3.9/site-packages/numpy/lib/function_base.py:2854: RuntimeWarning: invalid value encountered in divide\n",
      "  c /= stddev[None, :]\n"
     ]
    }
   ],
   "source": [
    "#values init\n",
    "iterations=[]\n",
    "timevals=[]\n",
    "errorvals=[]\n",
    "vals=[0.25, 0.50, 0.75]\n",
    "for val in vals:\n",
    "    X_train, X_test, y_train, y_test = train_test_split (input, output, test_size=val)\n",
    "    learner=DTLearner(leaf_size=1)\n",
    "    start=timeit.timeit()\n",
    "    iter= learner.add_evidence(X_train, y_train)\n",
    "    end=timeit.timeit()\n",
    "    time=end-start\n",
    "    yresult=learner.query(X_test)\n",
    "    y_test=y_test.ravel()\n",
    "    error=yresult-y_test\n",
    "    percenerror=abs(sum(error))/(y_test.size)\n",
    "    iterations.append(iter)\n",
    "    timevals.append(time)\n",
    "    errorvals.append(percenerror)"
   ]
  },
  {
   "cell_type": "code",
   "execution_count": 50,
   "metadata": {},
   "outputs": [
    {
     "data": {
      "text/plain": [
       "[7, 11, 3]"
      ]
     },
     "execution_count": 50,
     "metadata": {},
     "output_type": "execute_result"
    }
   ],
   "source": [
    "import matplotlib.pyplot as plt\n",
    "iterations\n"
   ]
  },
  {
   "cell_type": "code",
   "execution_count": 60,
   "metadata": {},
   "outputs": [
    {
     "data": {
      "text/plain": [
       "[<matplotlib.lines.Line2D at 0x7fdaffebeee0>]"
      ]
     },
     "execution_count": 60,
     "metadata": {},
     "output_type": "execute_result"
    },
    {
     "data": {
      "image/png": "[encoded data removed]",
      "text/plain": [
       "<Figure size 640x480 with 1 Axes>"
      ]
     },
     "metadata": {},
     "output_type": "display_data"
    }
   ],
   "source": [
    "plt.plot(vals, errorvals, 'r')\n",
    "plt.plot(vals, timevals, 'g')\n",
    "plt.plot(vals, iterations, 'b')"
   ]
  }
 ],
 "metadata": {
  "kernelspec": {
   "display_name": "Python 3.9.5 ('base')",
   "language": "python",
   "name": "python3"
  },
  "language_info": {
   "codemirror_mode": {
    "name": "ipython",
    "version": 3
   },
   "file_extension": ".py",
   "mimetype": "text/x-python",
   "name": "python",
   "nbconvert_exporter": "python",
   "pygments_lexer": "ipython3",
   "version": "3.9.13"
  },
  "orig_nbformat": 4,
  "vscode": {
   "interpreter": {
    "hash": "862f0c301361fa216e65337648d543e9d8ffcab5d13c10cfb69f21da2230b16c"
   }
  }
 },
 "nbformat": 4,
 "nbformat_minor": 2
}
