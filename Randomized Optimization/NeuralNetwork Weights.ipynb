{
 "cells": [
  {
   "cell_type": "code",
   "execution_count": 3,
   "metadata": {},
   "outputs": [],
   "source": [
    "import numpy as np\n",
    "from sklearn.model_selection import train_test_split\n",
    "import time\n",
    "import six\n",
    "import sys\n",
    "sys.modules['sklearn.externals.six']=six\n",
    "import matplotlib.pyplot as plt\n",
    "import mlrose"
   ]
  },
  {
   "cell_type": "code",
   "execution_count": 4,
   "metadata": {},
   "outputs": [],
   "source": [
    "#Data loading\n",
    "strdata=np.loadtxt('energy.csv', delimiter=',', dtype=str)\n",
    "strdata=strdata[1:,:]\n",
    "data=strdata.astype('double')\n",
    "input=data[:,0:-2]\n",
    "output1=data[:,-2:-1]\n",
    "output1[output1<=22.3] = 0 #small heating load\n",
    "output1[output1> 22.3] = 1 #large heating load\n",
    "\n",
    "X_train, X_test, y_train, y_test = train_test_split (input, output1)\n"
   ]
  },
  {
   "cell_type": "code",
   "execution_count": 13,
   "metadata": {},
   "outputs": [
    {
     "data": {
      "image/png": "[encoded data removed]",
      "text/plain": [
       "<Figure size 640x480 with 1 Axes>"
      ]
     },
     "metadata": {},
     "output_type": "display_data"
    },
    {
     "name": "stdout",
     "output_type": "stream",
     "text": [
      "for random_hill_climb the time to train was 1.3999109268188477.\n",
      "for random_hill_climb the training accuracy was 0.4809027777777778.\n",
      "for random_hill_climb the test accuracy was 0.4739583333333333.\n",
      "for random_hill_climb the loss function was 17.929397954357505.\n"
     ]
    }
   ],
   "source": [
    "from sklearn.metrics import accuracy_score\n",
    "\n",
    "for alg in ['random_hill_climb']: #, 'simulated_annealing', 'genetic_alg']:\n",
    "    model=mlrose.NeuralNetwork(algorithm=alg, activation= 'tanh', restarts=10, curve=True)#, early_stopping=True, max_attempts=10)\n",
    "    time0=time.time()\n",
    "    model.fit(X_train, y_train)\n",
    "    time1=time.time()\n",
    "    train_predic=model.predict(X_train)\n",
    "    test_predic=model.predict(X_test)\n",
    "\n",
    "    timetotrain=time1-time0\n",
    "    train_acc=accuracy_score(y_train, train_predic)\n",
    "    test_acc= accuracy_score(y_test, test_predic)\n",
    "    loss=model.loss\n",
    "    plt.plot(model.fitness_curve)\n",
    "    plt.show()\n",
    "    \n",
    "\n",
    "    print(\"for \" + alg + \" the time to train was \" + str(timetotrain) + \".\" )\n",
    "    print(\"for \" + alg + \" the training accuracy was \" + str(train_acc) + \".\" )\n",
    "    print(\"for \" + alg + \" the test accuracy was \" + str(test_acc) + \".\" )\n",
    "    print(\"for \" + alg + \" the loss function was \" + str(loss) + \".\" )\n",
    "\n"
   ]
  },
  {
   "cell_type": "code",
   "execution_count": 7,
   "metadata": {},
   "outputs": [
    {
     "data": {
      "text/plain": [
       "array([-0.59964542, -0.59964542, -0.59964542, -0.59964542, -0.59964542,\n",
       "       -0.59964542, -0.59964542, -0.59964542, -0.59964542, -0.59964542,\n",
       "       -0.59964542])"
      ]
     },
     "execution_count": 7,
     "metadata": {},
     "output_type": "execute_result"
    }
   ],
   "source": [
    "model.fitted_weights\n",
    "model.loss\n",
    "model.fitness_curve"
   ]
  },
  {
   "cell_type": "code",
   "execution_count": null,
   "metadata": {},
   "outputs": [],
   "source": []
  },
  {
   "cell_type": "code",
   "execution_count": null,
   "metadata": {},
   "outputs": [],
   "source": []
  }
 ],
 "metadata": {
  "kernelspec": {
   "display_name": "Python 3.9.13 ('base')",
   "language": "python",
   "name": "python3"
  },
  "language_info": {
   "codemirror_mode": {
    "name": "ipython",
    "version": 3
   },
   "file_extension": ".py",
   "mimetype": "text/x-python",
   "name": "python",
   "nbconvert_exporter": "python",
   "pygments_lexer": "ipython3",
   "version": "3.9.13"
  },
  "orig_nbformat": 4,
  "vscode": {
   "interpreter": {
    "hash": "862f0c301361fa216e65337648d543e9d8ffcab5d13c10cfb69f21da2230b16c"
   }
  }
 },
 "nbformat": 4,
 "nbformat_minor": 2
}
