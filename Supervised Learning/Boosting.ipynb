{
 "cells": [
  {
   "cell_type": "code",
   "execution_count": 70,
   "metadata": {},
   "outputs": [
    {
     "name": "stdout",
     "output_type": "stream",
     "text": [
      "[-0.9444616088408513, -0.9444616088408513, -0.9444616088408513, -0.9444616088408513, -0.9444616088408513, -0.9444616088408513, -0.9444616088408513, -0.9444616088408513, -0.9444616088408513, -0.9444616088408513, -0.9444616088408513, -0.9444616088408513, -0.9444616088408513, -0.9444616088408513, -0.9444616088408513, -0.9444616088408513, -0.9444616088408513, -0.9444616088408513, -0.9444616088408513, -0.9444616088408513, -0.9444616088408513, -0.9444616088408513, -0.9444616088408513, -0.9444616088408513, -0.9444616088408513, -0.9444616088408513, -0.9444616088408513, -0.9444616088408513, -0.9444616088408513, -0.9444616088408513, -0.9444616088408513, 0.9444616088408513, -0.9444616088408513, -0.9444616088408513, -0.9444616088408513, -0.9444616088408513, -0.9444616088408513, -0.9444616088408513, -0.9444616088408513, -0.9444616088408513, -0.9444616088408513, -0.9444616088408513, -0.9444616088408513, -0.9444616088408513, -0.9444616088408513, -0.9444616088408513, -0.9444616088408513, -0.9444616088408513, -0.9444616088408513, -0.9444616088408513, -0.9444616088408513, -0.9444616088408513, 0.9444616088408513, -0.9444616088408513, -0.9444616088408513, -0.9444616088408513, -0.9444616088408513, -0.9444616088408513, -0.9444616088408513, -0.9444616088408513, -0.9444616088408513, -0.9444616088408513, -0.9444616088408513, -0.9444616088408513, -0.9444616088408513, -0.9444616088408513, -0.9444616088408513, -0.9444616088408513, -0.9444616088408513, -0.9444616088408513, -0.9444616088408513, -0.9444616088408513, -0.9444616088408513, -0.9444616088408513, -0.9444616088408513]\n"
     ]
    }
   ],
   "source": [
    "from DecisionTree import DTLearner\n",
    "import numpy as np\n",
    "import timeit\n",
    "from sklearn.model_selection import train_test_split\n",
    "\n",
    "strdata=np.loadtxt('fertility.csv', delimiter=',', dtype=str)\n",
    "#Cleaning up the data\n",
    "input=strdata[:,0:-1]\n",
    "input=input.astype('float')\n",
    "output=strdata[:,-1:]\n",
    "output[output== 'N'] = -1 #normal fertility is a -1\n",
    "output[output== 'O'] = 1 #abnormal fertility is 1\n",
    "output=output.astype('float')\n",
    "\n",
    "#Split into test and train data\n",
    "X_train, X_test, y_train, y_test = train_test_split (input, output)\n",
    "num=X_train.shape[0]\n",
    "dist=np.ones(num)/num\n",
    "\n",
    "iterat=0\n",
    "hypothesis=[]\n",
    "alphas=[]\n",
    "while iterat <2:\n",
    "    iterat+=1\n",
    "    #D1, construct h1\n",
    "    learner=DTLearner(leaf_size=1)\n",
    "    iter= learner.add_evidence(X_train, y_train)\n",
    "    yresulttrain=learner.query(X_train)\n",
    "    y_trainr=y_train.ravel()\n",
    "    error=yresulttrain-y_trainr\n",
    "    error[error!=0]=1\n",
    "    percenerror=abs(np.sum(error))/(y_test.size)\n",
    "    #calculate alpha\n",
    "    alpha=0.5*np.log((1-percenerror)/percenerror)\n",
    "    dist=np.ones(X_train.shape[0])\n",
    "\n",
    "    for val in range(X_train.shape[0]):\n",
    "        dist[val]=(dist[val])*np.exp(-1*alpha*y_train[val]*yresulttrain[val])\n",
    "    totaldist=np.sum(dist)\n",
    "    dist=dist/totaldist\n",
    "    alphas.append(alpha)\n",
    "    hypothesis.append(learner)\n",
    "capitalH=[]\n",
    "#train data\n",
    "for x in range(num):\n",
    "    sgn=0\n",
    "    for y in range(len(alphas)):\n",
    "        sgn+=alphas[y]*hypothesis[y].query(X_train[x].reshape(1,-1))\n",
    "    capitalH.append(sgn[0])\n",
    "print(capitalH)\n"
   ]
  },
  {
   "cell_type": "code",
   "execution_count": null,
   "metadata": {},
   "outputs": [],
   "source": []
  }
 ],
 "metadata": {
  "kernelspec": {
   "display_name": "Python 3.9.5 64-bit",
   "language": "python",
   "name": "python3"
  },
  "language_info": {
   "codemirror_mode": {
    "name": "ipython",
    "version": 3
   },
   "file_extension": ".py",
   "mimetype": "text/x-python",
   "name": "python",
   "nbconvert_exporter": "python",
   "pygments_lexer": "ipython3",
   "version": "3.9.5"
  },
  "orig_nbformat": 4,
  "vscode": {
   "interpreter": {
    "hash": "aee8b7b246df8f9039afb4144a1f6fd8d2ca17a180786b69acc140d282b71a49"
   }
  }
 },
 "nbformat": 4,
 "nbformat_minor": 2
}
