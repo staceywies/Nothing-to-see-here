{
 "cells": [
  {
   "cell_type": "code",
   "execution_count": 16,
   "metadata": {},
   "outputs": [
    {
     "data": {
      "text/plain": [
       "-1.0"
      ]
     },
     "execution_count": 16,
     "metadata": {},
     "output_type": "execute_result"
    }
   ],
   "source": [
    "import numpy as np\n",
    "from sklearn.model_selection import train_test_split\n",
    "#Cleaning up the data\n",
    "strdata=np.loadtxt('fertility.csv', delimiter=',', dtype=str)\n",
    "input=strdata[:,0:-1]\n",
    "input=input.astype('float')\n",
    "output=strdata[:,-1:]\n",
    "output[output== 'N'] = -1 #normal fertility is a -1\n",
    "output[output== 'O'] = 1 #abnormal fertility is 1\n",
    "output=output.astype('float')\n",
    "\n",
    "#test train split\n",
    "X_train, X_test, y_train, y_test = train_test_split (input, output)\n",
    "\n",
    "#test\n",
    "for a in X_test:\n",
    "    data=a\n",
    "    distances=np.linalg.norm(X_train- data, axis=1)\n",
    "k=3\n",
    "nearest_neighbor_k= distances.argsort()[:k]\n",
    "nearest_neighbor_k\n",
    "\n",
    "nearest_neighbor_vals=y_train[nearest_neighbor_k]\n",
    "predict=nearest_neighbor_vals.mean()\n",
    "predict\n"
   ]
  },
  {
   "cell_type": "code",
   "execution_count": null,
   "metadata": {},
   "outputs": [],
   "source": []
  }
 ],
 "metadata": {
  "kernelspec": {
   "display_name": "Python 3.9.5 64-bit",
   "language": "python",
   "name": "python3"
  },
  "language_info": {
   "codemirror_mode": {
    "name": "ipython",
    "version": 3
   },
   "file_extension": ".py",
   "mimetype": "text/x-python",
   "name": "python",
   "nbconvert_exporter": "python",
   "pygments_lexer": "ipython3",
   "version": "3.9.5"
  },
  "orig_nbformat": 4,
  "vscode": {
   "interpreter": {
    "hash": "aee8b7b246df8f9039afb4144a1f6fd8d2ca17a180786b69acc140d282b71a49"
   }
  }
 },
 "nbformat": 4,
 "nbformat_minor": 2
}
