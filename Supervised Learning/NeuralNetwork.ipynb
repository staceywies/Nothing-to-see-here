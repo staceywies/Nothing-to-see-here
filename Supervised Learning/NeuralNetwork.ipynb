{
 "cells": [
  {
   "cell_type": "code",
   "execution_count": 2,
   "metadata": {},
   "outputs": [],
   "source": [
    "import numpy as np\n",
    "from sklearn.model_selection import train_test_split\n",
    "\n",
    "#Data\n",
    "strdata=np.loadtxt('fertility.csv', delimiter=',', dtype=str)\n",
    "input=strdata[:,0:-1]\n",
    "input=input.astype('float')\n",
    "output=strdata[:,-1:]\n",
    "output[output== 'N'] = 0 #normal fertility is a 0\n",
    "output[output== 'O'] = 1 #abnormal fertility is 1\n",
    "output=output.astype('float')\n",
    "\n",
    "input.shape\n",
    "ones=np.ones((100,1))\n",
    "ones.astype(float)\n",
    "input=np.append(ones, input, axis=1)\n",
    "#splitting test and train\n",
    "X_train, X_test, y_train, y_test = train_test_split (input, output)\n"
   ]
  },
  {
   "cell_type": "code",
   "execution_count": null,
   "metadata": {},
   "outputs": [],
   "source": []
  },
  {
   "cell_type": "code",
   "execution_count": 65,
   "metadata": {},
   "outputs": [],
   "source": [
    "#initialize weights and learning\n",
    "weights=np.ones((input.shape[1]))/ 100 #input.shape[1] \n",
    "learningr=0.001\n",
    "i=0\n",
    "while i < 10:\n",
    "    i+=1\n",
    "\n",
    "    #calculate a\n",
    "    acalc=np.sum(X_train*weights, axis=1)    \n",
    "    #print(acalc)\n",
    "\n",
    "    #calculate y minus a\n",
    "    y_train=y_train.ravel()\n",
    "    ydiff=y_train-acalc\n",
    "    #print(y_train)\n",
    "    #print(ydiff)\n",
    "\n",
    "    #Calculate error\n",
    "    aerror=np.copy(acalc)\n",
    "    aerror[aerror<=0.5]=0\n",
    "    aerror[aerror>0.5]=1\n",
    "    difference=abs(aerror-y_train)\n",
    "    error=np.sum(difference)/difference.size\n",
    "\n",
    "\n",
    "    #one iteration of gradient\n",
    "    gradient=[]\n",
    "    for j in range(X_train.shape[1]):\n",
    "        val=sum(X_train[:,j]*ydiff)*learningr\n",
    "        gradient.append(val)\n",
    "    #print(gradient)\n",
    "\n",
    "    #update weights\n",
    "    weights+=gradient\n"
   ]
  },
  {
   "cell_type": "code",
   "execution_count": 66,
   "metadata": {},
   "outputs": [
    {
     "name": "stdout",
     "output_type": "stream",
     "text": [
      "[0.10434286 0.07343685 0.15503351 0.12772137 0.15834233 0.10818364\n",
      " 0.10252614 0.12469677 0.18601805 0.09346943 0.1891481  0.07664876\n",
      " 0.14461813 0.10562232 0.1137584  0.13780068 0.16057812 0.13420376\n",
      " 0.11149988 0.09896711 0.11912211 0.12471634 0.15773756 0.11742413\n",
      " 0.0888531 ]\n"
     ]
    }
   ],
   "source": [
    "#test data\n",
    "answera=np.sum(X_test*weights, axis=1)\n",
    "print(answera)\n",
    "answera[answera<=0.5]=0\n",
    "answera[answera>0.5]=1\n",
    "y_test=y_test.ravel()\n",
    "difference=abs(answera-y_test)\n",
    "error=np.sum(difference)/difference.size\n"
   ]
  },
  {
   "cell_type": "code",
   "execution_count": 100,
   "metadata": {},
   "outputs": [
    {
     "name": "stdout",
     "output_type": "stream",
     "text": [
      "75\n",
      "2868.263693416\n",
      "2884.258312125\n",
      "15.994618708999951\n",
      "50\n",
      "2884.258802013\n",
      "2898.690264742\n",
      "14.431462729000032\n",
      "25\n",
      "2898.690835229\n",
      "2910.399624044\n",
      "11.708788814999934\n"
     ]
    }
   ],
   "source": [
    "#########Starts here\n",
    "import numpy as np\n",
    "from sklearn.model_selection import train_test_split\n",
    "import timeit\n",
    "\n",
    "#Data\n",
    "strdata=np.loadtxt('fertility.csv', delimiter=',', dtype=str)\n",
    "input=strdata[:,0:-1]\n",
    "input=input.astype('float')\n",
    "output=strdata[:,-1:]\n",
    "output[output== 'N'] = 0 #normal fertility is a 0\n",
    "output[output== 'O'] = 1 #abnormal fertility is 1\n",
    "output=output.astype('float')\n",
    "\n",
    "input.shape\n",
    "ones=np.ones((100,1))\n",
    "ones.astype(float)\n",
    "input=np.append(ones, input, axis=1)\n",
    "#splitting test and train\n",
    "vals=[0.25, 0.50, 0.75]\n",
    "iterations=[]\n",
    "timetotrain=[]\n",
    "errortest=[]\n",
    "errortrain=[]\n",
    "for val in vals:\n",
    "    X_train, X_test, y_train, y_test = train_test_split (input, output, test_size=val)\n",
    "    weights=np.ones((input.shape[1]))/ input.shape[1] \n",
    "    learningr=0.001\n",
    "    iter=0\n",
    "    start=timeit.default_timer()\n",
    "    print (y_train.size)\n",
    "    while iter < 100000:\n",
    "        iter+=1\n",
    "\n",
    "        #calculate a\n",
    "        acalc=np.sum(X_train*weights, axis=1)    \n",
    "        #print(acalc)\n",
    "\n",
    "        #calculate y minus a\n",
    "        y_train=y_train.ravel()\n",
    "        ydiff=y_train-acalc\n",
    "        #print(y_train)\n",
    "        #print(ydiff)\n",
    "\n",
    "        #Calculate error\n",
    "        aerror=np.copy(acalc)\n",
    "        aerror[aerror<=0.5]=0\n",
    "        aerror[aerror>0.5]=1\n",
    "        difference=abs(aerror-y_train)\n",
    "        error=np.sum(difference)/difference.size\n",
    "\n",
    "\n",
    "        #one iteration of gradient\n",
    "        gradient=[]\n",
    "        for j in range(X_train.shape[1]):\n",
    "            val=sum(X_train[:,j]*ydiff)*learningr\n",
    "            gradient.append(val)\n",
    "        #print(gradient)\n",
    "\n",
    "        #update weights\n",
    "        weights+=gradient\n",
    "    stop=timeit.default_timer()\n",
    "    print(start)\n",
    "    print(stop)\n",
    "    timer=stop-start\n",
    "    print(timer)\n",
    "    iterations.append(iter)\n",
    "    timetotrain.append(timer)\n",
    "    errortrain.append(error)\n",
    "    \n",
    "    #test data\n",
    "    answera=np.sum(X_test*weights, axis=1)\n",
    "    answera[answera<=0.5]=0\n",
    "    answera[answera>0.5]=1\n",
    "    y_test=y_test.ravel()\n",
    "    difference=abs(answera-y_test)\n",
    "    error=np.sum(difference)/difference.size\n",
    "    errortest.append(error)\n"
   ]
  },
  {
   "cell_type": "code",
   "execution_count": 101,
   "metadata": {},
   "outputs": [
    {
     "name": "stdout",
     "output_type": "stream",
     "text": [
      "[100000, 100000, 100000]\n",
      "[15.994618708999951, 14.431462729000032, 11.708788814999934]\n",
      "[0.10666666666666667, 0.12, 0.12]\n",
      "[0.16, 0.12, 0.12]\n"
     ]
    }
   ],
   "source": [
    "print(iterations)\n",
    "print(timetotrain)\n",
    "print(errortrain)\n",
    "print(errortest)\n"
   ]
  },
  {
   "cell_type": "code",
   "execution_count": null,
   "metadata": {},
   "outputs": [],
   "source": []
  },
  {
   "cell_type": "code",
   "execution_count": null,
   "metadata": {},
   "outputs": [],
   "source": []
  }
 ],
 "metadata": {
  "kernelspec": {
   "display_name": "Python 3.9.5 64-bit",
   "language": "python",
   "name": "python3"
  },
  "language_info": {
   "codemirror_mode": {
    "name": "ipython",
    "version": 3
   },
   "file_extension": ".py",
   "mimetype": "text/x-python",
   "name": "python",
   "nbconvert_exporter": "python",
   "pygments_lexer": "ipython3",
   "version": "3.9.5"
  },
  "orig_nbformat": 4,
  "vscode": {
   "interpreter": {
    "hash": "aee8b7b246df8f9039afb4144a1f6fd8d2ca17a180786b69acc140d282b71a49"
   }
  }
 },
 "nbformat": 4,
 "nbformat_minor": 2
}
