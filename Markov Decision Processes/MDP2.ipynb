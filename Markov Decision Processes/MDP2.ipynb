{
 "cells": [
  {
   "cell_type": "code",
   "execution_count": 4,
   "metadata": {},
   "outputs": [],
   "source": [
    "import mdptoolbox\n",
    "import numpy as np"
   ]
  },
  {
   "cell_type": "code",
   "execution_count": 67,
   "metadata": {},
   "outputs": [],
   "source": [
    "#Build transition matrix\n",
    "transition1=np.zeros((4,12,12))\n",
    "#action0=up\n",
    "#action1=right\n",
    "#action2=down\n",
    "#action3=left\n",
    "s=range(0,12,1)\n",
    "for i in s:\n",
    "    #going up\n",
    "    if i+4<12:\n",
    "        transition1[0,i,i+4]+=1\n",
    "    else:\n",
    "        transition1[0,i,i]+=1\n",
    "    #going right\n",
    "    if i+1 not in [12,8,4]:\n",
    "        transition1[1,i, i+1]+=1\n",
    "    else:\n",
    "        transition1[1,i,i]+=1\n",
    "    #going down\n",
    "    if i-4>-1:\n",
    "        transition1[2,i,i-4]+=1\n",
    "    else:\n",
    "        transition1[2,i,i]+=1\n",
    "    #going left\n",
    "    if i not in [0,4,8]:\n",
    "        transition1[3,i, i-1]+=1\n",
    "    else:\n",
    "        transition1[3,i,i]+=1\n",
    "\n",
    "reward=np.ones((4,12,12))\n",
    "reward1=reward*-1\n",
    "reward1[:,:,10]=100\n",
    "reward1[:,:,6]=-10000\n",
    "reward1[:,:,2]=50"
   ]
  },
  {
   "cell_type": "code",
   "execution_count": 68,
   "metadata": {},
   "outputs": [
    {
     "name": "stdout",
     "output_type": "stream",
     "text": [
      "(11.5, 62.5, 62.5, 62.5, 3.8000000000000007, 24.0, 125.0, 24.0, 24.0, 125.0, 125.0, 125.0)\n",
      "(1, 1, 2, 3, 0, 0, 0, 0, 1, 1, 0, 3)\n"
     ]
    }
   ],
   "source": [
    "#Policy Iteration\n",
    "problem1=mdptoolbox.mdp.PolicyIteration(transition1, reward1, 0.2, max_iter=10000)\n",
    "problem1.run()\n",
    "value1=problem1.V\n",
    "policy1=problem1.policy\n",
    "print(value1)\n",
    "print(policy1)"
   ]
  },
  {
   "cell_type": "code",
   "execution_count": 70,
   "metadata": {},
   "outputs": [
    {
     "name": "stdout",
     "output_type": "stream",
     "text": [
      "  Iteration\t\tV-variation\n",
      "    1\t\t  101.0\n",
      "    2\t\t  20.2\n",
      "    3\t\t  2.0\n",
      "    4\t\t  0.40000000000000213\n",
      "    5\t\t  0.08000000000001073\n",
      "Iterating stopped due to maximum number of iterations condition.\n",
      "(11.48, 62.480000000000004, 62.480000000000004, 62.480000000000004, 3.7600000000000007, 23.96, 124.96000000000001, 23.96, 23.96, 124.96000000000001, 124.96000000000001, 124.96000000000001)\n",
      "(1, 1, 2, 3, 0, 0, 0, 0, 1, 1, 0, 3)\n"
     ]
    }
   ],
   "source": [
    "#Value Iteration\n",
    "problem1=mdptoolbox.mdp.ValueIteration(transition1, reward1, 0.2, max_iter=10000)\n",
    "problem1.setVerbose()\n",
    "problem1.run()\n",
    "value1=problem1.V\n",
    "policy1=problem1.policy\n",
    "print(value1)\n",
    "print(policy1)"
   ]
  },
  {
   "cell_type": "code",
   "execution_count": 74,
   "metadata": {},
   "outputs": [],
   "source": [
    "#Q Learning\n",
    "problem1=mdptoolbox.mdp.QLearning(transition1, reward1, 0.2, max_iter=10000)\n",
    "problem1.setVerbose()\n",
    "problem1.run()\n",
    "value1=problem1.V\n",
    "policy1=problem1.policy\n",
    "print(value1)\n",
    "print(policy1)"
   ]
  },
  {
   "cell_type": "code",
   "execution_count": null,
   "metadata": {},
   "outputs": [],
   "source": []
  }
 ],
 "metadata": {
  "kernelspec": {
   "display_name": "Python 3.9.13 ('base')",
   "language": "python",
   "name": "python3"
  },
  "language_info": {
   "codemirror_mode": {
    "name": "ipython",
    "version": 3
   },
   "file_extension": ".py",
   "mimetype": "text/x-python",
   "name": "python",
   "nbconvert_exporter": "python",
   "pygments_lexer": "ipython3",
   "version": "3.9.13"
  },
  "orig_nbformat": 4,
  "vscode": {
   "interpreter": {
    "hash": "862f0c301361fa216e65337648d543e9d8ffcab5d13c10cfb69f21da2230b16c"
   }
  }
 },
 "nbformat": 4,
 "nbformat_minor": 2
}
